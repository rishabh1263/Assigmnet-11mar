{
 "cells": [
  {
   "cell_type": "markdown",
   "id": "43aac778",
   "metadata": {},
   "source": [
    "A z-test is used to test a Null Hypothesis if the population variance is known, or if the sample size is larger than 30, for an unknown population variance. A t-test is used when the sample size is less than 30 and the population variance is unknown."
   ]
  },
  {
   "cell_type": "markdown",
   "id": "daaa145c",
   "metadata": {},
   "source": [
    "The main difference between one-tailed and two-tailed tests is that one-tailed tests will only have one critical region whereas two-tailed tests will have two critical regions."
   ]
  },
  {
   "cell_type": "markdown",
   "id": "943779dd",
   "metadata": {},
   "source": [
    "There are two errors that could potentially occur: Type I error (false positive): the test result says you have coronavirus, but you actually don't. Type II error (false negative): the test result says you don't have coronavirus, but you actually do."
   ]
  },
  {
   "cell_type": "markdown",
   "id": "deecf030",
   "metadata": {},
   "source": [
    "Bayes’ theorem describes the probability of occurrence of an event related to any condition. It is also considered for the case of conditional probability. Bayes theorem is also known as the formula for the probability of “causes”. For example: if we have to calculate the probability of taking a blue ball from the second bag out of three different bags of balls, where each bag contains three different colour balls viz. red, blue, black. In this case, the probability of occurrence of an event is calculated depending on other conditions is known as conditional probability. In this article, let us discuss the statement and proof for Bayes theorem, its derivation, formula, and many solved examples.\n",
    "\n",
    "Formula: prb(A/B) = PRB(A)* PRB(B/A)/ PRB(B)"
   ]
  },
  {
   "cell_type": "markdown",
   "id": "6395745d",
   "metadata": {},
   "source": [
    "Confidence, in statistics, is another way to describe probability. For example, if you construct a confidence interval with a 95% confidence level, you are confident that 95 out of 100 times the estimate will fall between the upper and lower values specified by the confidence interva"
   ]
  },
  {
   "cell_type": "markdown",
   "id": "caf84829",
   "metadata": {},
   "source": [
    "An internet search for \"movie automatic shoe laces\" brings up \"Back to the future\"\n",
    "\n",
    "Has the search engine watched the movie? No, but it knows from lots of other searches what people are probably looking for.\n",
    "\n",
    "And it calculates that probability using Bayes' Theorem.\n",
    "\n",
    "Example 1: Amy has two bags. Bag I has 7 red and 2 blue balls and bag II has 5 red and 9 blue balls. Amy draws a ball at random and it turns out to be red. Determine the probability that the ball was from the bag I using the Bayes theorem.\n",
    "\n",
    "Solution: Let X and Y be the events that the ball is from the bag I and bag II, respectively. Assume A to be the event of drawing a red ball. We know that the probability of choosing a bag for drawing a ball is 1/2, that is,\n",
    "P(X) = P(Y) = 1/2\n",
    "\n",
    "Since there are 7 red balls out of a total of 11 balls in the bag I, therefore, P(drawing a red ball from the bag I) = P(A|X) = 7/11\n",
    "\n",
    "Similarly, P(drawing a red ball from bag II) = P(A|Y) = 5/14\n",
    "\n",
    "We need to determine the value of P(the ball drawn is from the bag I given that it is a red ball), that is, P(X|A). To determine this we will use Bayes Theorem. Using Bayes theorem, we have the following:\n",
    "\n",
    "P\n",
    "(\n",
    "X\n",
    "|\n",
    "A\n",
    ")\n",
    "=\n",
    "P\n",
    "(\n",
    "A\n",
    "|\n",
    "X\n",
    ")\n",
    "P\n",
    "(\n",
    "X\n",
    ")\n",
    "P\n",
    "(\n",
    "A\n",
    "|\n",
    "X\n",
    ")\n",
    "P\n",
    "(\n",
    "X\n",
    ")\n",
    "+\n",
    "P\n",
    "(\n",
    "A\n",
    "|\n",
    "Y\n",
    ")\n",
    "P\n",
    "(\n",
    "Y\n",
    ")\n",
    "= [((7/11)(1/2))/(7/11)(1/2)+(5/14)(1/2)]\n",
    "\n",
    "= 0.64\n",
    "\n",
    "Answer: Hence, the probability that the ball is drawn is from bag I is 0.64"
   ]
  },
  {
   "cell_type": "markdown",
   "id": "8f244b74",
   "metadata": {},
   "source": [
    "Home  Market Research\n",
    "\n",
    "Margin of Error: Definition + Easy Calculation with Examples\n",
    "Margin of Error\n",
    "The margin of error is an essential concept for understanding the accuracy and reliability of survey data. In this article, we’ll take a closer look at its definition and its calculation while providing examples of how it’s used in research. We’ll also discuss the importance of considering the margin of error when interpreting survey results and how it can affect the conclusions drawn from the data. So, whether you’re experienced or just starting your journey, this article is a must-read for anyone looking to master the art of margin of error and ensure the accuracy and reliability of their research. Let’s get started!\n",
    "\n",
    "What is a Margin of Error?\n",
    "Definition:\n",
    "\n",
    "The margin of error in statistics is the degree of error in results received from random sampling surveys. A higher margin of error in statistics indicates less likelihood of relying on the results of a survey or poll, i.e. the confidence on the results will be lower to represent a population. It is a very vital tool in market research as it depicts the confidence level the researchers should have in the data obtained from surveys.\n",
    "\n",
    "A confidence interval is the level of unpredictability with a specific statistic. Usually, it is used in association with the margin of errors to reveal the confidence a statistician has in judging whether the results of an online survey or online poll are worthy to represent the entire population."
   ]
  },
  {
   "cell_type": "code",
   "execution_count": null,
   "id": "32a50c30",
   "metadata": {},
   "outputs": [],
   "source": []
  }
 ],
 "metadata": {
  "kernelspec": {
   "display_name": "Python 3 (ipykernel)",
   "language": "python",
   "name": "python3"
  },
  "language_info": {
   "codemirror_mode": {
    "name": "ipython",
    "version": 3
   },
   "file_extension": ".py",
   "mimetype": "text/x-python",
   "name": "python",
   "nbconvert_exporter": "python",
   "pygments_lexer": "ipython3",
   "version": "3.9.13"
  }
 },
 "nbformat": 4,
 "nbformat_minor": 5
}
